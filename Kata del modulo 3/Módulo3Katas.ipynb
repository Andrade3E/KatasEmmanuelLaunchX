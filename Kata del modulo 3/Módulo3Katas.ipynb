{
 "cells": [
  {
   "cell_type": "markdown",
   "metadata": {},
   "source": [
    "# Ejercicio - Escribir declaraciones if, else, y elif"
   ]
  },
  {
   "cell_type": "code",
   "execution_count": 1,
   "metadata": {},
   "outputs": [
    {
     "name": "stdout",
     "output_type": "stream",
     "text": [
      "Advertenciaaaaa, peligro de asteroide hacia la tierra!!\n"
     ]
    }
   ],
   "source": [
    "speed=49\n",
    "if(speed>25):\n",
    "    print(\"Advertenciaaaaa, peligro de asteroide hacia la tierra!!\")\n",
    "else:\n",
    "    print(\"Falsa alarma, meteorito lejos de la tierra\")"
   ]
  },
  {
   "cell_type": "markdown",
   "metadata": {},
   "source": [
    "## if else elif"
   ]
  },
  {
   "cell_type": "code",
   "execution_count": 2,
   "metadata": {},
   "outputs": [
    {
     "name": "stdout",
     "output_type": "stream",
     "text": [
      "Se puede ver un rayo del luz del arteoride\n"
     ]
    }
   ],
   "source": [
    "speed=19\n",
    "if(speed<20):\n",
    "    print(\"Se puede ver un rayo del luz del arteoride\")\n",
    "else:\n",
    "    print(\"Alerta, asteroide en el cielo hacia la tierra, miren\")\n",
    "\n",
    "    "
   ]
  },
  {
   "cell_type": "markdown",
   "metadata": {},
   "source": [
    "# Ejercicio: Uso de operadores and y or\n"
   ]
  },
  {
   "cell_type": "code",
   "execution_count": 3,
   "metadata": {},
   "outputs": [
    {
     "name": "stdout",
     "output_type": "stream",
     "text": [
      "El meteorito va a golpear la tierra!!\n"
     ]
    }
   ],
   "source": [
    "tamaño=30\n",
    "velocidad=25\n",
    "if(tamaño>25 and tamaño<1000):\n",
    "    print(\"El meteorito va a golpear la tierra!!\")\n",
    "elif(velocidad>25):\n",
    "    print(\"Advertencia de meteorito en el cielo hacia la tierra\")\n",
    "elif(velocidad>=20):\n",
    "    print(\"Miren el rayo de luz en el cielo\")\n",
    "else:\n",
    "    print(\"No hay nadaaaa\")"
   ]
  }
 ],
 "metadata": {
  "interpreter": {
   "hash": "ca585555a2867b459a38eaf8b2b47956aef7a6f770e52f1f5dfa1f8f05e57688"
  },
  "kernelspec": {
   "display_name": "Python 3.10.2 64-bit",
   "language": "python",
   "name": "python3"
  },
  "language_info": {
   "codemirror_mode": {
    "name": "ipython",
    "version": 3
   },
   "file_extension": ".py",
   "mimetype": "text/x-python",
   "name": "python",
   "nbconvert_exporter": "python",
   "pygments_lexer": "ipython3",
   "version": "3.10.2"
  },
  "orig_nbformat": 4
 },
 "nbformat": 4,
 "nbformat_minor": 2
}
